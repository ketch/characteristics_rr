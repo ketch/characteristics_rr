{
 "cells": [
  {
   "cell_type": "markdown",
   "metadata": {},
   "source": [
    "This notebook is meant to accompany the paper **A characteristics-based approximation for wave scattering from an arbitrary obstacle in one dimension**  by Jithin D. George, David I. Ketcheson, and Randall J. LeVeque.  The notebook includes some details of useful calculations as well as code to reproduce examples in the paper."
   ]
  },
  {
   "cell_type": "code",
   "execution_count": null,
   "metadata": {},
   "outputs": [],
   "source": [
    "%matplotlib inline\n",
    "import numpy as np\n",
    "import matplotlib.pyplot as plt\n",
    "from clawpack import pyclaw, riemann\n",
    "from clawpack.visclaw import ianimate\n",
    "from scipy import integrate\n",
    "from numba import jit\n",
    "import matplotlib\n",
    "matplotlib.rcParams.update({'font.size': 16})"
   ]
  },
  {
   "cell_type": "markdown",
   "metadata": {},
   "source": [
    "# Reflection and transmission of a square wave\n",
    "The code below is specialized to the case of a square wave initial condition:\n",
    "$$p(x,t=0) = \\begin{cases} 1 & -w \\le x \\le 0 \\\\ 0 & \\text{elsewhere} \\end{cases}$$\n",
    "As in the paper, the initial velocity is such that this square wave is purely right-going.\n",
    "The square wave is discussed extensively in the paper and is a convenient choice since it\n",
    "allows us to perform one integration analytically, reducing by one the dimension of the quadrature\n",
    "required.  In the code below, we've also specialized (for simplicity) to the case where $c(x)$ is\n",
    "a linear function; $Z(x)$ can be more complicated.  There are some commented-out snippets that will\n",
    "work for arbitrary $c(x)$."
   ]
  },
  {
   "cell_type": "code",
   "execution_count": null,
   "metadata": {},
   "outputs": [],
   "source": [
    "@jit\n",
    "def c_fun(x):\n",
    "    \"Sound speed c(x).  If this function is changed, then X(t) and T(x) must be modified as well.\"\n",
    "    return (x<x_0)*c_l + (x>x_r)*c_r + (x>=x_0)*(x<=x_r)*(c_l + s*(x-x_0))\n",
    "\n",
    "@jit\n",
    "def Z_fun(x):\n",
    "    \"Impedance Z(x).  If this is changed, Z_prime(x) must also be modified.\"\n",
    "    return (x<x_0)*Z_l + (x>x_r)*Z_r + (x>=x_0)*(x<=x_r)*(Z_l + sZ*(x-x_0)) \\\n",
    "            + oscillate*(x>x_0)*(x<x_r)*np.sin(10*np.pi*x)\n",
    "\n",
    "@jit\n",
    "def Z_prime(x):\n",
    "    \"Derivative of Z(x).\"\n",
    "    if oscillate==0:\n",
    "        return sZ\n",
    "    else:\n",
    "        return sZ + oscillate*10*np.pi*np.cos(10*np.pi*x)\n",
    "\n",
    "def X_rhs(X,t):\n",
    "    \"ODE for X(t) (unreflected characteristic path).\"\n",
    "    return c_fun(X)\n",
    "\n",
    "\n",
    "# for arbitrary c(x):\n",
    "#tvals = np.linspace(0,t_r)\n",
    "#Xvals = integrate.odeint(X_rhs, x_0, tvals).squeeze()\n",
    "\n",
    "@jit\n",
    "def X(t):\n",
    "    \"x-location of a characteristic that leaves x=0 at t=0 (going to the right) and is not reflected.\"\n",
    "    # This version works for any c(x):\n",
    "    #return (t<=0)*0 + (t>=t_r)*x_r + (t>0)*(t<t_r)*pwlinear(tvals, Xvals, Xvals, t)\n",
    "    # Only for linearly-varying sound speed:\n",
    "    return (t<=0)*0 + (t>=t_r)*x_r + (t>0)*(t<t_r)*c_l/s*(np.exp(s*t)-1)\n",
    "\n",
    "@jit\n",
    "def T(x):\n",
    "    \"Time taken for a characteristic to reach x (from zero).\"\n",
    "    # This version works for any c(x):\n",
    "    #return pwlinear(Xvals, tvals, tvals, x)\n",
    "    # Only for linear c(x):\n",
    "    return 1./s*np.log(s*x/c_l+1)"
   ]
  },
  {
   "cell_type": "markdown",
   "metadata": {},
   "source": [
    "# Twice-reflected waves: $T_2$\n",
    "\n",
    "The integral for twice-reflected waves\n",
    "takes the form\n",
    "\\begin{align*}\n",
    "    T_2 & = -C_G \\int_0^{x_+} \\int_0^{x_1} \\eta_0(\\xi_T({\\mathbf x},t)) r(x_1) r(x_2) dx_2 dx_1 \\\\\n",
    "        & = -C_G \\frac{1}{4} \\int_0^{x_r} \\frac{Z'(x_1)}{Z(x_1)} \\int_{\\min(x_1,\\alpha_2(t,x_1))}^{\\min(x_1,\\beta_2(t,x_1))}  \\frac{Z'(x_2)}{Z(x_2)} dx_2 dx_1 \\\\\n",
    "        & = -C_G \\int_0^{x_r} \\frac{1}{4} \\frac{Z'(x_1)}{Z(x_1)} \\log\\left(\\frac{Z(\\min(x_1,\\beta_2))}{Z(\\min(x_1,\\alpha_2))}\\right)dx_1.\n",
    "\\end{align*}\n",
    "The bounds of integration turn out to be\n",
    "\\begin{align*}\n",
    "    \\alpha(t,x_1) & = X\\left(\\tau(x_1) - \\frac{t-t_+}{2}\\right) \\\\\n",
    "    \\beta(t,x_1)  & = X\\left(\\tau(x_1) - \\frac{t-t_+-w/c_-}{2}\\right)\n",
    "\\end{align*}\n"
   ]
  },
  {
   "cell_type": "code",
   "execution_count": null,
   "metadata": {},
   "outputs": [],
   "source": [
    "def make_trans_fcn(c_l, c_r, Z_l, Z_r, x_0, x_r, oscillate):\n",
    "    def transmitted_wave(x,t,w=1.,N=2):\n",
    "\n",
    "        t_w = w/c_l\n",
    "\n",
    "        def T0(t,w):\n",
    "            \"First transmitted characteristics (no reflections).\"\n",
    "            x_init = (t-t_r)*(-c_l)\n",
    "            return (x_init<x_0)*(x_init>-w)*np.sqrt(Z_r/Z_l)\n",
    "\n",
    "        # T_2: Twice-reflected waves (eventually transmitted)\n",
    "        def T2(t):\n",
    "            \"Twice-reflected waves\"\n",
    "\n",
    "            def alpha2(t):\n",
    "                \"Lower limit of integration in x1.\"\n",
    "                return (t<(3*t_r+t_w))*X((t-t_r-t_w)/2.)\n",
    "\n",
    "            def gamma2(x1):  # Lower limit of integration for x2\n",
    "                T1 = T(x1)\n",
    "                return (t<t_r+2*T1)*(X(T1-(t-t_r)/2.)) + 0.*t\n",
    "\n",
    "            def integrand(x1):\n",
    "                x2_lower = X(T(x1)-(t-t_r)/2)\n",
    "                x2_upper = X(T(x1)-(t-t_r-t_w)/2)\n",
    "                # Faster, but works only for linear Z(x):\n",
    "                #return -sZ/(4.*Z_fun(x1))*(np.log(Z_fun(min(x2_upper,x1)))-np.log(Z_fun(min(x2_lower,x1))))\n",
    "                # Slower, but works for any Z(x):\n",
    "                return -Z_prime(x1)/(4.*Z_fun(x1))*(np.log(Z_fun(min(x2_upper,x1)))-np.log(Z_fun(min(x2_lower,x1))))\n",
    "\n",
    "            if (t<t_r) or (t>3*t_r+t_w):\n",
    "                return 0\n",
    "            else:\n",
    "                return (Z_r/Z_l)**(1./2)*integrate.quad(integrand,0,x_r,epsabs=1.e-3,epsrel=1.e-3)[0]\n",
    "\n",
    "        def T4(t):\n",
    "            \"Four-times reflected waves\"\n",
    "\n",
    "            def integrand4(x_3, x_2, x_1):\n",
    "                x4_lower = X(T(x_1)+T(x_3)-T(x_2)-(t-t_r)/2)\n",
    "                x4_upper = X(T(x_1)+T(x_3)-T(x_2)-(t-t_r-t_w)/2)\n",
    "                # Faster, but works only for linear Z(x):\n",
    "                #return -sZ**3/16*np.log(Z_fun(min(x4_lower,x_3))/Z_fun(min(x4_upper,x_3)))/(Z_fun(x_1)*Z_fun(x_2)*Z_fun(x_3))\n",
    "                # Slower, but works for any Z(x):\n",
    "                return -Z_prime(x_1)*Z_prime(x_2)*Z_prime(x_3)/16*np.log(Z_fun(min(x4_lower,x_3))/Z_fun(min(x4_upper,x_3)))/(Z_fun(x_1)*Z_fun(x_2)*Z_fun(x_3))\n",
    "\n",
    "            def zerofun(x):\n",
    "                return 0\n",
    "\n",
    "            def identity(x_1):\n",
    "                return x_1\n",
    "\n",
    "            def identity2(x_1, x_2):\n",
    "                return x_2\n",
    "\n",
    "            def x_r_fun(x_1, x_2):\n",
    "                return x_r\n",
    "\n",
    "            if (t<t_r) or (t>5*t_r+t_w):\n",
    "                return 0\n",
    "            else:\n",
    "                return (Z_r/Z_l)**(1/2)*integrate.tplquad(integrand4,0,x_r,zerofun,identity,identity2,x_r_fun,\n",
    "                                                          epsabs=1.e-3,epsrel=1.e-3)[0]\n",
    "\n",
    "        if N>4: raise Exception('Transmitted terms beyond N=4 have not been coded.')\n",
    "        T_0 = T0(t-(x-x_r)/c_r,w)\n",
    "        T_2 = np.zeros_like(x)\n",
    "        T_4 = np.zeros_like(x)\n",
    "        if N>=2:\n",
    "            for i, xx in enumerate(x):\n",
    "                tt = t-(xx-x_r)/c_r\n",
    "                if tt>t_r and tt<(3*t_r+t_w):\n",
    "                    T_2[i] = T2(tt)\n",
    "                if tt>t_r and tt<(5*t_r+t_w) and N>=4:\n",
    "                    T_4[i] = T4(tt)\n",
    "\n",
    "        return (x>x_r)*(T_0 + T_2 + T_4)\n",
    "    \n",
    "    return transmitted_wave"
   ]
  },
  {
   "cell_type": "markdown",
   "metadata": {},
   "source": [
    "# Once-reflected waves: $R_1$\n",
    "The integral for once-reflected waves\n",
    "takes the form\n",
    "\\begin{align*}\n",
    "    R_1 & = \\int_0^{x_+} \\eta_0(\\xi_R({\\mathbf x},t)) r(x_1) dx_1 \\\\\n",
    "        & = \\frac{1}{2} \\int_{\\alpha_1(t)}^{X(t/2)} \\frac{Z'(x_1)}{Z(x_1)} dx_1 \\\\\n",
    "        & = \\frac{1}{2} \\log\\left(\\frac{Z(X(t/2))}{Z(\\alpha(t))}\\right).\n",
    "\\end{align*}\n",
    "The bounds of integration are determined by considering for what values of $x_1$\n",
    "the initial value $\\eta_0(\\xi_R(x_1,t))$ is nonzero.  The upper bound, $X(t/2)$, is\n",
    "simply the furthest point a reflected characteristic path could have reached\n",
    "in order to return to $x=0$ at time $t$.  It turns out that the lower bound is\n",
    "\\begin{align*}\n",
    "    \\alpha(t) = X((t-w/c_-)/2).\n",
    "\\end{align*}\n"
   ]
  },
  {
   "cell_type": "markdown",
   "metadata": {},
   "source": [
    "# Thrice-reflected waves: $R_3$\n",
    "\n",
    "Similarly, for the thrice-reflected waves we find\n",
    "\\begin{align*}\n",
    "    R_3(t) & = -\\int_0^{x_+} \\int_0^{x_1} \\int_{x_2}^{x_+} \\eta_0(\\xi_R({\\mathbf x},t)) r(x_1) r(x_2) r(x_3) dx_3 dx_2 dx_1 \\\\\n",
    "        & = -\\frac{1}{8}\\int_0^{X(t/2)} \\int_0^{x_1} \\int_{\\max(x_2,\\alpha_3)}^{\\max(x_2,\\beta_3)} \\frac{Z'(x_1)}{Z(x_1)} \\frac{Z'(x_2)}{Z(x_2)} \\frac{Z'(x_3)}{Z(x_3)} dx_3 dx_2 dx_1 \\\\\n",
    "        & = -\\frac{1}{8}\\int_0^{X(t/2)} \\int_0^{x_1} \\frac{Z'(x_1)}{Z(x_1)} \\frac{Z'(x_2)}{Z(x_2)} \\log\\left(\\frac{Z(\\max(x_2, \\beta_3))}{Z(\\max(x_2, \\alpha_3))}\\right) dx_2 dx_1.\n",
    "\\end{align*}\n",
    "Here the bounds of integration $\\alpha_3, \\beta_3$ give the range of permissible reflection\n",
    "points $x_3$, such that a characteristic path originating from $[-w,0]$ reaches $x=0$ after\n",
    "three reflections.  These turn out to be\n",
    "\\begin{align*}\n",
    "    \\alpha(t,x_1,x_2) & = X\\left(\\frac{t-w/c_+}{2}+\\tau(x_2) - \\tau(x_1)\\right) \\\\\n",
    "    \\beta(t,x_1,x_2)  & = X\\left(\\frac{t}{2}+\\tau(x_2) - \\tau(x_1)\\right).\n",
    "\\end{align*}\n"
   ]
  },
  {
   "cell_type": "code",
   "execution_count": null,
   "metadata": {},
   "outputs": [],
   "source": [
    "def make_refl_fcn(c_l, c_r, Z_l, Z_r, x_0, x_r, oscillate):\n",
    "    def reflected_wave(x,t,w=1.,N=3):\n",
    "        # Lower and upper limits of integration for first reflections integral\n",
    "        t_w = w/c_l\n",
    "\n",
    "        def alpha(t):\n",
    "            return (t < w/c_l)*0 + (t < (2*t_r + t_w))*X((t-t_w)/2.)\n",
    "\n",
    "        def beta(t):\n",
    "            return (t < 2*t_r)*X(t/2.) + (t > 2*t_r)*(t < (2*t_r + t_w))*x_r\n",
    "\n",
    "        def R_1(t):\n",
    "            \"Amplitude of first reflections at x=0 as a function of time.\"\n",
    "            return (t>0) * 0.5 * np.log(Z_fun(beta(t))/Z_fun(alpha(t)))\n",
    "\n",
    "\n",
    "        # R_3: Thrice-reflected waves (eventually reflected)\n",
    "        def R3(t):\n",
    "            \"Thrice-reflected waves\"\n",
    "            t_w = w/c_l\n",
    "\n",
    "            def integrand(x2,x1):\n",
    "                x3_upper = X(t/2-T(x1)+T(x2))\n",
    "                x3_lower = X((t-t_w)/2 + T(x2) - T(x1))\n",
    "                #return sZ**2/8.*np.log(Z_fun(max(x2,x3_lower))/Z_fun(max(x2,x3_upper)))/(Z_fun(x1)*Z_fun(x2))\n",
    "                return Z_prime(x1)*Z_prime(x2)/8.*np.log(Z_fun(max(x2,x3_lower))/Z_fun(max(x2,x3_upper)))/(Z_fun(x1)*Z_fun(x2))\n",
    "\n",
    "            def zerofun(x1):\n",
    "                return 0\n",
    "\n",
    "            def identity(x1):\n",
    "                return x1\n",
    "\n",
    "            if (t>(4*t_r + t_w)):\n",
    "                return 0\n",
    "            else:\n",
    "                b = X(t/2)\n",
    "                return integrate.dblquad(integrand,0,b,zerofun,identity,epsabs=1.e-3,epsrel=1.e-3)[0]\n",
    "\n",
    "        if N>4: raise Exception('Reflection terms beyond n=3 have not been coded.')\n",
    "        R_3 = np.zeros_like(x)\n",
    "        if N>=3:\n",
    "            for i, xx in enumerate(x):\n",
    "                tt = t+xx/c_l\n",
    "                R_3[i] = R3(tt)        \n",
    "\n",
    "        return (x<x_0)*(R_1(t+x/c_l)+R_3)\n",
    "    \n",
    "    return reflected_wave"
   ]
  },
  {
   "cell_type": "markdown",
   "metadata": {},
   "source": [
    "# Code to solve the problem with PyClaw\n",
    "We'll use this as a reference for comparison."
   ]
  },
  {
   "cell_type": "code",
   "execution_count": null,
   "metadata": {},
   "outputs": [],
   "source": [
    "def setup(mx=1000, w=1., Z_l = 1., Z_r = 2., c_l=1., c_r=1., x_0 = 0., x_r = 1., oscillate=False):\n",
    "    from clawpack.riemann.acoustics_variable_1D_constants import impedance, sound_speed, velocity, pressure\n",
    "    \n",
    "    riemann_solver = riemann.acoustics_variable_1D\n",
    "    solver = pyclaw.ClawSolver1D(riemann_solver)\n",
    "\n",
    "    # Boundary conditions\n",
    "    solver.bc_lower[0] = pyclaw.BC.extrap\n",
    "    solver.bc_upper[0] = pyclaw.BC.extrap\n",
    "    solver.aux_bc_lower[0] = pyclaw.BC.extrap\n",
    "    solver.aux_bc_upper[0] = pyclaw.BC.extrap\n",
    "\n",
    "    xlower=x_0-x_r*6; xupper=x_0+x_r*3\n",
    "    x = pyclaw.Dimension(xlower,xupper,mx)\n",
    "    domain = pyclaw.Domain(x)\n",
    "    state = pyclaw.State(domain,solver.num_eqn,2)\n",
    "    xc=state.grid.x.centers\n",
    "\n",
    "    #Initialize q and aux\n",
    "    if x_r - x_0 == 0:\n",
    "        Z = Z_l*(xc<x_0) + Z_r*(xc>=x_r)\n",
    "        c = c_l*(xc<x_0) + c_r*(xc>=x_r)\n",
    "    else:\n",
    "        Z = Z_l*(xc<x_0) + Z_r*(xc>x_r) + (Z_l + (Z_r-Z_l)*(xc-x_0)/(x_r-x_0))*(xc>=x_0)*(xc<=x_r)\n",
    "        c = c_l*(xc<x_0) + c_r*(xc>x_r) + (c_l + (c_r-c_l)*(xc-x_0)/(x_r-x_0))*(xc>=x_0)*(xc<=x_r)\n",
    "        \n",
    "    if oscillate:\n",
    "        Z = Z + oscillate*(xc>x_0)*(xc<x_r)*np.sin(10*np.pi*xc)\n",
    "        \n",
    "    state.aux[impedance,:] = Z # Impedance\n",
    "    state.aux[sound_speed,:] = c # Sound speed\n",
    "\n",
    "    state.q[pressure,:] = (xc>x_0-w)*(xc<x_0)  # p\n",
    "    state.q[velocity,:] = state.q[0,:]/Z        # u\n",
    "\n",
    "    claw = pyclaw.Controller()\n",
    "    claw.solution = pyclaw.Solution(state,domain)\n",
    "\n",
    "    claw.output_style = 1\n",
    "    claw.num_output_times = 10\n",
    "    claw.tfinal =  3.*t_r\n",
    "    claw.solver = solver\n",
    "    claw.keep_copy = True\n",
    "    claw.output_format = None\n",
    "    \n",
    "    return claw, Z, c"
   ]
  },
  {
   "cell_type": "markdown",
   "metadata": {},
   "source": [
    "# Figure 8(a)"
   ]
  },
  {
   "cell_type": "code",
   "execution_count": null,
   "metadata": {},
   "outputs": [],
   "source": [
    "c_l = 2.\n",
    "c_r = 1.\n",
    "Z_l = 0.5\n",
    "Z_r = 1.\n",
    "x_0 = 0.\n",
    "x_r = 1.  # Slope extends from x_0 to x_r\n",
    "s = (c_r-c_l)/(x_r-x_0)  # slope c\n",
    "sZ = (Z_r-Z_l)/(x_r-x_0)\n",
    "t_r = 1./s*np.log(s*x_r/c_l+1)  # crossing time\n",
    "oscillate = 0.\n",
    "\n",
    "transmitted_wave = make_trans_fcn(c_l, c_r, Z_l, Z_r, x_0, x_r, oscillate)\n",
    "reflected_wave = make_refl_fcn(c_l, c_r, Z_l, Z_r, x_0, x_r, oscillate)"
   ]
  },
  {
   "cell_type": "code",
   "execution_count": null,
   "metadata": {},
   "outputs": [],
   "source": [
    "w=100.\n",
    "claw, Z, c = setup(mx=10000,w=w,Z_l=Z_l,Z_r=Z_r,\n",
    "                c_l=c_l,c_r=c_r,x_0=x_0,x_r=x_r,oscillate=oscillate)\n",
    "xc = claw.solution.state.grid.x.centers\n",
    "\n",
    "claw.run()"
   ]
  },
  {
   "cell_type": "code",
   "execution_count": null,
   "metadata": {},
   "outputs": [],
   "source": [
    "ianimate.ianimate(claw)"
   ]
  },
  {
   "cell_type": "code",
   "execution_count": null,
   "metadata": {},
   "outputs": [],
   "source": [
    "N = 2\n",
    "i = -1\n",
    "skip = 100\n",
    "q = claw.frames[i].q\n",
    "t = claw.frames[i].t\n",
    "x_coarse = xc[::skip]\n",
    "wave2 = reflected_wave(x_coarse,t,w,N=N) + transmitted_wave(x_coarse,t,w,N=N)\n",
    "wave2 = wave2 + 1*(x_coarse<x_0)\n",
    "\n",
    "wave4 = reflected_wave(x_coarse,t,w,N=4) + transmitted_wave(x_coarse,t,w,N=4)\n",
    "wave4 = wave4 + 1*(x_coarse<x_0)"
   ]
  },
  {
   "cell_type": "code",
   "execution_count": null,
   "metadata": {},
   "outputs": [],
   "source": [
    "plt.figure(figsize=(10,6))\n",
    "leftpart = np.where(x_coarse<0)\n",
    "rightpart = np.where(x_coarse>x_r)\n",
    "\n",
    "plt.plot(xc,q[0,:],'-k',zorder=11);\n",
    "plt.plot(x_coarse[leftpart],wave2[leftpart],'r--',lw=3)#,alpha=0.5);\n",
    "plt.plot(x_coarse[leftpart],wave4[leftpart],'b',lw=3,alpha=0.5);\n",
    "plt.plot(x_coarse[rightpart],wave2[rightpart],'r--',lw=3)#,alpha=0.5);\n",
    "plt.plot(x_coarse[rightpart],wave4[rightpart],'b',lw=3,alpha=0.5);\n",
    "ax = plt.gca()\n",
    "ymax, ymin = ax.get_ylim()\n",
    "xmid = np.linspace(0,1)\n",
    "plt.fill_between(xmid,ymax,ymin,color='lightgray',alpha=1.,zorder=10)\n",
    "plt.autoscale(enable=True, axis='y', tight=True)\n",
    "plt.autoscale(enable=True, axis='x', tight=True)\n",
    "plt.legend(['exact','Up to 2 reflections','Up to 4 reflections'],fontsize=15,loc=3);"
   ]
  },
  {
   "cell_type": "markdown",
   "metadata": {},
   "source": [
    "# Figure 8(b)"
   ]
  },
  {
   "cell_type": "code",
   "execution_count": null,
   "metadata": {},
   "outputs": [],
   "source": [
    "w=1.\n",
    "claw, Z, c = setup(mx=10000,w=w,Z_l=Z_l,Z_r=Z_r,\n",
    "                c_l=c_l,c_r=c_r,x_0=x_0,x_r=x_r,oscillate=oscillate)\n",
    "xc = claw.solution.state.grid.x.centers\n",
    "\n",
    "claw.run()"
   ]
  },
  {
   "cell_type": "code",
   "execution_count": null,
   "metadata": {},
   "outputs": [],
   "source": [
    "N = 2\n",
    "i = -1\n",
    "skip = 100\n",
    "q = claw.frames[i].q\n",
    "t = claw.frames[i].t\n",
    "x_coarse = xc[::skip]\n",
    "wave2 = reflected_wave(x_coarse,t,w,N=N) + transmitted_wave(x_coarse,t,w,N=N)\n",
    "\n",
    "wave4 = reflected_wave(x_coarse,t,w,N=4) + transmitted_wave(x_coarse,t,w,N=4)"
   ]
  },
  {
   "cell_type": "code",
   "execution_count": null,
   "metadata": {},
   "outputs": [],
   "source": [
    "plt.figure(figsize=(10,6))\n",
    "leftpart = np.where(x_coarse<0)\n",
    "rightpart = np.where(x_coarse>x_r)\n",
    "\n",
    "plt.plot(xc,q[0,:],'-k',zorder=11);\n",
    "plt.plot(x_coarse[leftpart],wave2[leftpart],'r--',lw=3)#,alpha=0.5);\n",
    "plt.plot(x_coarse[leftpart],wave4[leftpart],'b',lw=3,alpha=0.5);\n",
    "plt.plot(x_coarse[rightpart],wave2[rightpart],'r--',lw=3)#,alpha=0.5);\n",
    "plt.plot(x_coarse[rightpart],wave4[rightpart],'b',lw=3,alpha=0.5);\n",
    "ax = plt.gca()\n",
    "ymax, ymin = ax.get_ylim()\n",
    "xmid = np.linspace(0,1)\n",
    "plt.fill_between(xmid,ymax,ymin,color='lightgray',alpha=1.,zorder=10)\n",
    "plt.autoscale(enable=True, axis='y', tight=True)\n",
    "plt.autoscale(enable=True, axis='x', tight=True)\n",
    "plt.legend(['exact','Up to 2 reflections','Up to 4 reflections'],fontsize=15,loc='best');"
   ]
  },
  {
   "cell_type": "markdown",
   "metadata": {},
   "source": [
    "# Figure 9(a)"
   ]
  },
  {
   "cell_type": "code",
   "execution_count": null,
   "metadata": {},
   "outputs": [],
   "source": [
    "Z_l = 1./8\n",
    "sZ = (Z_r-Z_l)/(x_r-x_0)"
   ]
  },
  {
   "cell_type": "code",
   "execution_count": null,
   "metadata": {},
   "outputs": [],
   "source": [
    "@jit\n",
    "def c_fun(x):\n",
    "    \"Sound speed c(x).  If this function is changed, then X(t) and T(x) must be modified as well.\"\n",
    "    return (x<x_0)*c_l + (x>x_r)*c_r + (x>=x_0)*(x<=x_r)*(c_l + s*(x-x_0))\n",
    "\n",
    "@jit\n",
    "def Z_fun(x):\n",
    "    \"Impedance Z(x).  If this is changed, Z_prime(x) must also be modified.\"\n",
    "    return (x<x_0)*Z_l + (x>x_r)*Z_r + (x>=x_0)*(x<=x_r)*(Z_l + sZ*(x-x_0)) \\\n",
    "            + oscillate*(x>x_0)*(x<x_r)*np.sin(10*np.pi*x)\n",
    "\n",
    "@jit\n",
    "def Z_prime(x):\n",
    "    \"Derivative of Z(x).\"\n",
    "    if oscillate==0:\n",
    "        return sZ\n",
    "    else:\n",
    "        return sZ + oscillate*10*np.pi*np.cos(10*np.pi*x)\n",
    "\n",
    "def X_rhs(X,t):\n",
    "    \"ODE for X(t) (unreflected characteristic path).\"\n",
    "    return c_fun(X)\n",
    "\n",
    "\n",
    "# for arbitrary c(x):\n",
    "#tvals = np.linspace(0,t_r)\n",
    "#Xvals = integrate.odeint(X_rhs, x_0, tvals).squeeze()\n",
    "\n",
    "@jit\n",
    "def X(t):\n",
    "    \"x-location of a characteristic that leaves x=0 at t=0 (going to the right) and is not reflected.\"\n",
    "    # This version works for any c(x):\n",
    "    #return (t<=0)*0 + (t>=t_r)*x_r + (t>0)*(t<t_r)*pwlinear(tvals, Xvals, Xvals, t)\n",
    "    # Only for linearly-varying sound speed:\n",
    "    return (t<=0)*0 + (t>=t_r)*x_r + (t>0)*(t<t_r)*c_l/s*(np.exp(s*t)-1)\n",
    "\n",
    "@jit\n",
    "def T(x):\n",
    "    \"Time taken for a characteristic to reach x (from zero).\"\n",
    "    # This version works for any c(x):\n",
    "    #return pwlinear(Xvals, tvals, tvals, x)\n",
    "    # Only for linear c(x):\n",
    "    return 1./s*np.log(s*x/c_l+1)"
   ]
  },
  {
   "cell_type": "code",
   "execution_count": null,
   "metadata": {},
   "outputs": [],
   "source": [
    "transmitted_wave = make_trans_fcn(c_l, c_r, Z_l, Z_r, x_0, x_r, oscillate)\n",
    "reflected_wave = make_refl_fcn(c_l, c_r, Z_l, Z_r, x_0, x_r, oscillate)"
   ]
  },
  {
   "cell_type": "code",
   "execution_count": null,
   "metadata": {},
   "outputs": [],
   "source": [
    "w=100.\n",
    "claw, Z, c = setup(mx=10000,w=w,Z_l=Z_l,Z_r=Z_r,\n",
    "                c_l=c_l,c_r=c_r,x_0=x_0,x_r=x_r,oscillate=oscillate)\n",
    "xc = claw.solution.state.grid.x.centers\n",
    "\n",
    "claw.run()"
   ]
  },
  {
   "cell_type": "code",
   "execution_count": null,
   "metadata": {},
   "outputs": [],
   "source": [
    "N = 2\n",
    "i = -1\n",
    "skip = 100\n",
    "q = claw.frames[i].q\n",
    "t = claw.frames[i].t\n",
    "x_coarse = xc[::skip]\n",
    "wave2 = reflected_wave(x_coarse,t,w,N=N) + transmitted_wave(x_coarse,t,w,N=N)\n",
    "wave2 = wave2 + 1*(x_coarse<x_0)\n",
    "\n",
    "wave4 = reflected_wave(x_coarse,t,w,N=4) + transmitted_wave(x_coarse,t,w,N=4)\n",
    "wave4 = wave4 + 1*(x_coarse<x_0)"
   ]
  },
  {
   "cell_type": "code",
   "execution_count": null,
   "metadata": {},
   "outputs": [],
   "source": [
    "plt.figure(figsize=(10,6))\n",
    "leftpart = np.where(x_coarse<0)\n",
    "rightpart = np.where(x_coarse>x_r)\n",
    "\n",
    "plt.plot(xc,q[0,:],'-k',zorder=11);\n",
    "plt.plot(x_coarse[leftpart],wave2[leftpart],'r--',lw=3)#,alpha=0.5);\n",
    "plt.plot(x_coarse[leftpart],wave4[leftpart],'b',lw=3,alpha=0.5);\n",
    "plt.plot(x_coarse[rightpart],wave2[rightpart],'r--',lw=3)#,alpha=0.5);\n",
    "plt.plot(x_coarse[rightpart],wave4[rightpart],'b',lw=3,alpha=0.5);\n",
    "ax = plt.gca()\n",
    "ymax, ymin = ax.get_ylim()\n",
    "xmid = np.linspace(0,1)\n",
    "plt.fill_between(xmid,ymax,ymin,color='lightgray',alpha=1.,zorder=10)\n",
    "plt.autoscale(enable=True, axis='y', tight=True)\n",
    "plt.autoscale(enable=True, axis='x', tight=True)\n",
    "plt.legend(['exact','Up to 2 reflections','Up to 4 reflections'],fontsize=15,loc='best');"
   ]
  },
  {
   "cell_type": "markdown",
   "metadata": {},
   "source": [
    "# Figure 9(b)"
   ]
  },
  {
   "cell_type": "code",
   "execution_count": null,
   "metadata": {},
   "outputs": [],
   "source": [
    "w=1.\n",
    "claw, Z, c = setup(mx=10000,w=w,Z_l=Z_l,Z_r=Z_r,\n",
    "                c_l=c_l,c_r=c_r,x_0=x_0,x_r=x_r,oscillate=oscillate)\n",
    "xc = claw.solution.state.grid.x.centers\n",
    "\n",
    "claw.run()"
   ]
  },
  {
   "cell_type": "code",
   "execution_count": null,
   "metadata": {},
   "outputs": [],
   "source": [
    "N = 2\n",
    "i = -1\n",
    "skip = 100\n",
    "q = claw.frames[i].q\n",
    "t = claw.frames[i].t\n",
    "x_coarse = xc[::skip]\n",
    "wave2 = reflected_wave(x_coarse,t,w,N=N) + transmitted_wave(x_coarse,t,w,N=N)\n",
    "\n",
    "wave4 = reflected_wave(x_coarse,t,w,N=4) + transmitted_wave(x_coarse,t,w,N=4)"
   ]
  },
  {
   "cell_type": "code",
   "execution_count": null,
   "metadata": {},
   "outputs": [],
   "source": [
    "plt.figure(figsize=(10,6))\n",
    "leftpart = np.where(x_coarse<0)\n",
    "rightpart = np.where(x_coarse>x_r)\n",
    "\n",
    "plt.plot(xc,q[0,:],'-k',zorder=11);\n",
    "plt.plot(x_coarse[leftpart],wave2[leftpart],'r--',lw=3)#,alpha=0.5);\n",
    "plt.plot(x_coarse[leftpart],wave4[leftpart],'b',lw=3,alpha=0.5);\n",
    "plt.plot(x_coarse[rightpart],wave2[rightpart],'r--',lw=3)#,alpha=0.5);\n",
    "plt.plot(x_coarse[rightpart],wave4[rightpart],'b',lw=3,alpha=0.5);\n",
    "ax = plt.gca()\n",
    "ymax, ymin = ax.get_ylim()\n",
    "xmid = np.linspace(0,1)\n",
    "plt.fill_between(xmid,ymax,ymin,color='lightgray',alpha=1.,zorder=10)\n",
    "plt.autoscale(enable=True, axis='y', tight=True)\n",
    "plt.autoscale(enable=True, axis='x', tight=True)\n",
    "plt.legend(['exact','Up to 2 reflections','Up to 4 reflections'],fontsize=15,loc='best');"
   ]
  },
  {
   "cell_type": "markdown",
   "metadata": {},
   "source": [
    "# Figure 10(a)"
   ]
  },
  {
   "cell_type": "code",
   "execution_count": null,
   "metadata": {},
   "outputs": [],
   "source": [
    "Z_l = 1.\n",
    "Z_r = 20.\n",
    "sZ = (Z_r-Z_l)/(x_r-x_0)"
   ]
  },
  {
   "cell_type": "code",
   "execution_count": null,
   "metadata": {},
   "outputs": [],
   "source": [
    "@jit\n",
    "def c_fun(x):\n",
    "    \"Sound speed c(x).  If this function is changed, then X(t) and T(x) must be modified as well.\"\n",
    "    return (x<x_0)*c_l + (x>x_r)*c_r + (x>=x_0)*(x<=x_r)*(c_l + s*(x-x_0))\n",
    "\n",
    "@jit\n",
    "def Z_fun(x):\n",
    "    \"Impedance Z(x).  If this is changed, Z_prime(x) must also be modified.\"\n",
    "    return (x<x_0)*Z_l + (x>x_r)*Z_r + (x>=x_0)*(x<=x_r)*(Z_l + sZ*(x-x_0)) \\\n",
    "            + oscillate*(x>x_0)*(x<x_r)*np.sin(10*np.pi*x)\n",
    "\n",
    "@jit\n",
    "def Z_prime(x):\n",
    "    \"Derivative of Z(x).\"\n",
    "    if oscillate==0:\n",
    "        return sZ\n",
    "    else:\n",
    "        return sZ + oscillate*10*np.pi*np.cos(10*np.pi*x)\n",
    "\n",
    "def X_rhs(X,t):\n",
    "    \"ODE for X(t) (unreflected characteristic path).\"\n",
    "    return c_fun(X)\n",
    "\n",
    "\n",
    "# for arbitrary c(x):\n",
    "#tvals = np.linspace(0,t_r)\n",
    "#Xvals = integrate.odeint(X_rhs, x_0, tvals).squeeze()\n",
    "\n",
    "@jit\n",
    "def X(t):\n",
    "    \"x-location of a characteristic that leaves x=0 at t=0 (going to the right) and is not reflected.\"\n",
    "    # This version works for any c(x):\n",
    "    #return (t<=0)*0 + (t>=t_r)*x_r + (t>0)*(t<t_r)*pwlinear(tvals, Xvals, Xvals, t)\n",
    "    # Only for linearly-varying sound speed:\n",
    "    return (t<=0)*0 + (t>=t_r)*x_r + (t>0)*(t<t_r)*c_l/s*(np.exp(s*t)-1)\n",
    "\n",
    "@jit\n",
    "def T(x):\n",
    "    \"Time taken for a characteristic to reach x (from zero).\"\n",
    "    # This version works for any c(x):\n",
    "    #return pwlinear(Xvals, tvals, tvals, x)\n",
    "    # Only for linear c(x):\n",
    "    return 1./s*np.log(s*x/c_l+1)"
   ]
  },
  {
   "cell_type": "code",
   "execution_count": null,
   "metadata": {},
   "outputs": [],
   "source": [
    "transmitted_wave = make_trans_fcn(c_l, c_r, Z_l, Z_r, x_0, x_r, oscillate)\n",
    "reflected_wave = make_refl_fcn(c_l, c_r, Z_l, Z_r, x_0, x_r, oscillate)"
   ]
  },
  {
   "cell_type": "code",
   "execution_count": null,
   "metadata": {},
   "outputs": [],
   "source": [
    "w=100.\n",
    "claw, Z, c = setup(mx=10000,w=w,Z_l=Z_l,Z_r=Z_r,\n",
    "                c_l=c_l,c_r=c_r,x_0=x_0,x_r=x_r,oscillate=oscillate)\n",
    "xc = claw.solution.state.grid.x.centers\n",
    "\n",
    "claw.run()"
   ]
  },
  {
   "cell_type": "code",
   "execution_count": null,
   "metadata": {},
   "outputs": [],
   "source": [
    "N = 2\n",
    "i = -1\n",
    "skip = 100\n",
    "q = claw.frames[i].q\n",
    "t = claw.frames[i].t\n",
    "x_coarse = xc[::skip]\n",
    "wave2 = reflected_wave(x_coarse,t,w,N=N) + transmitted_wave(x_coarse,t,w,N=N)\n",
    "wave2 = wave2 + 1*(x_coarse<x_0)\n",
    "\n",
    "wave4 = reflected_wave(x_coarse,t,w,N=4) + transmitted_wave(x_coarse,t,w,N=4)\n",
    "wave4 = wave4 + 1*(x_coarse<x_0)"
   ]
  },
  {
   "cell_type": "code",
   "execution_count": null,
   "metadata": {},
   "outputs": [],
   "source": [
    "plt.figure(figsize=(10,6))\n",
    "leftpart = np.where(x_coarse<0)\n",
    "rightpart = np.where(x_coarse>x_r)\n",
    "\n",
    "plt.plot(xc,q[0,:],'-k',zorder=11);\n",
    "plt.plot(x_coarse[leftpart],wave2[leftpart],'r--',lw=3)#,alpha=0.5);\n",
    "plt.plot(x_coarse[leftpart],wave4[leftpart],'b',lw=3,alpha=0.5);\n",
    "plt.plot(x_coarse[rightpart],wave2[rightpart],'r--',lw=3)#,alpha=0.5);\n",
    "plt.plot(x_coarse[rightpart],wave4[rightpart],'b',lw=3,alpha=0.5);\n",
    "ax = plt.gca()\n",
    "ymax, ymin = ax.get_ylim()\n",
    "xmid = np.linspace(0,1)\n",
    "plt.fill_between(xmid,ymax,ymin,color='lightgray',alpha=1.,zorder=10)\n",
    "plt.autoscale(enable=True, axis='y', tight=True)\n",
    "plt.autoscale(enable=True, axis='x', tight=True)\n",
    "plt.legend(['exact','Up to 2 reflections','Up to 4 reflections'],fontsize=15,loc='best');"
   ]
  },
  {
   "cell_type": "markdown",
   "metadata": {},
   "source": [
    "# Figure 10(b)"
   ]
  },
  {
   "cell_type": "code",
   "execution_count": null,
   "metadata": {},
   "outputs": [],
   "source": [
    "w=1.\n",
    "claw, Z, c = setup(mx=10000,w=w,Z_l=Z_l,Z_r=Z_r,\n",
    "                c_l=c_l,c_r=c_r,x_0=x_0,x_r=x_r,oscillate=oscillate)\n",
    "xc = claw.solution.state.grid.x.centers\n",
    "\n",
    "claw.run()"
   ]
  },
  {
   "cell_type": "code",
   "execution_count": null,
   "metadata": {},
   "outputs": [],
   "source": [
    "N = 2\n",
    "i = -1\n",
    "skip = 100\n",
    "q = claw.frames[i].q\n",
    "t = claw.frames[i].t\n",
    "x_coarse = xc[::skip]\n",
    "wave2 = reflected_wave(x_coarse,t,w,N=N) + transmitted_wave(x_coarse,t,w,N=N)\n",
    "\n",
    "wave4 = reflected_wave(x_coarse,t,w,N=4) + transmitted_wave(x_coarse,t,w,N=4)"
   ]
  },
  {
   "cell_type": "code",
   "execution_count": null,
   "metadata": {},
   "outputs": [],
   "source": [
    "plt.figure(figsize=(10,6))\n",
    "leftpart = np.where(x_coarse<0)\n",
    "rightpart = np.where(x_coarse>x_r)\n",
    "\n",
    "plt.plot(xc,q[0,:],'-k',zorder=11);\n",
    "plt.plot(x_coarse[leftpart],wave2[leftpart],'r--',lw=3)#,alpha=0.5);\n",
    "plt.plot(x_coarse[leftpart],wave4[leftpart],'b',lw=3,alpha=0.5);\n",
    "plt.plot(x_coarse[rightpart],wave2[rightpart],'r--',lw=3)#,alpha=0.5);\n",
    "plt.plot(x_coarse[rightpart],wave4[rightpart],'b',lw=3,alpha=0.5);\n",
    "ax = plt.gca()\n",
    "ymax, ymin = ax.get_ylim()\n",
    "xmid = np.linspace(0,1)\n",
    "plt.fill_between(xmid,ymax,ymin,color='lightgray',alpha=1.,zorder=10)\n",
    "plt.autoscale(enable=True, axis='y', tight=True)\n",
    "plt.autoscale(enable=True, axis='x', tight=True)\n",
    "plt.legend(['exact','Up to 2 reflections','Up to 4 reflections'],fontsize=15,loc='best');"
   ]
  },
  {
   "cell_type": "markdown",
   "metadata": {},
   "source": [
    "# Figure 11(a)\n",
    "These last two take quite a long time to run."
   ]
  },
  {
   "cell_type": "code",
   "execution_count": null,
   "metadata": {},
   "outputs": [],
   "source": [
    "c_l = 2.\n",
    "c_r = 1.\n",
    "Z_l = 1./4\n",
    "Z_r = 1.\n",
    "x_0 = 0.\n",
    "x_r = 1.  # Slope extends from x_0 to x_r\n",
    "s = (c_r-c_l)/(x_r-x_0)  # slope c\n",
    "sZ = (Z_r-Z_l)/(x_r-x_0)\n",
    "t_r = 1./s*np.log(s*x_r/c_l+1)  # crossing time\n",
    "oscillate = 0.1"
   ]
  },
  {
   "cell_type": "code",
   "execution_count": null,
   "metadata": {},
   "outputs": [],
   "source": [
    "@jit\n",
    "def c_fun(x):\n",
    "    \"Sound speed c(x).  If this function is changed, then X(t) and T(x) must be modified as well.\"\n",
    "    return (x<x_0)*c_l + (x>x_r)*c_r + (x>=x_0)*(x<=x_r)*(c_l + s*(x-x_0))\n",
    "\n",
    "@jit\n",
    "def Z_fun(x):\n",
    "    \"Impedance Z(x).  If this is changed, Z_prime(x) must also be modified.\"\n",
    "    return (x<x_0)*Z_l + (x>x_r)*Z_r + (x>=x_0)*(x<=x_r)*(Z_l + sZ*(x-x_0)) \\\n",
    "            + oscillate*(x>x_0)*(x<x_r)*np.sin(10*np.pi*x)\n",
    "\n",
    "@jit\n",
    "def Z_prime(x):\n",
    "    \"Derivative of Z(x).\"\n",
    "    if oscillate==0:\n",
    "        return sZ\n",
    "    else:\n",
    "        return sZ + oscillate*10*np.pi*np.cos(10*np.pi*x)\n",
    "\n",
    "def X_rhs(X,t):\n",
    "    \"ODE for X(t) (unreflected characteristic path).\"\n",
    "    return c_fun(X)\n",
    "\n",
    "\n",
    "# for arbitrary c(x):\n",
    "#tvals = np.linspace(0,t_r)\n",
    "#Xvals = integrate.odeint(X_rhs, x_0, tvals).squeeze()\n",
    "\n",
    "@jit\n",
    "def X(t):\n",
    "    \"x-location of a characteristic that leaves x=0 at t=0 (going to the right) and is not reflected.\"\n",
    "    # This version works for any c(x):\n",
    "    #return (t<=0)*0 + (t>=t_r)*x_r + (t>0)*(t<t_r)*pwlinear(tvals, Xvals, Xvals, t)\n",
    "    # Only for linearly-varying sound speed:\n",
    "    return (t<=0)*0 + (t>=t_r)*x_r + (t>0)*(t<t_r)*c_l/s*(np.exp(s*t)-1)\n",
    "\n",
    "@jit\n",
    "def T(x):\n",
    "    \"Time taken for a characteristic to reach x (from zero).\"\n",
    "    # This version works for any c(x):\n",
    "    #return pwlinear(Xvals, tvals, tvals, x)\n",
    "    # Only for linear c(x):\n",
    "    return 1./s*np.log(s*x/c_l+1)"
   ]
  },
  {
   "cell_type": "code",
   "execution_count": null,
   "metadata": {},
   "outputs": [],
   "source": [
    "transmitted_wave = make_trans_fcn(c_l, c_r, Z_l, Z_r, x_0, x_r, oscillate)\n",
    "reflected_wave = make_refl_fcn(c_l, c_r, Z_l, Z_r, x_0, x_r, oscillate)"
   ]
  },
  {
   "cell_type": "code",
   "execution_count": null,
   "metadata": {},
   "outputs": [],
   "source": [
    "w=100.\n",
    "claw, Z, c = setup(mx=40000,w=w,Z_l=Z_l,Z_r=Z_r,\n",
    "                c_l=c_l,c_r=c_r,x_0=x_0,x_r=x_r,oscillate=oscillate)\n",
    "xc = claw.solution.state.grid.x.centers\n",
    "\n",
    "claw.run()"
   ]
  },
  {
   "cell_type": "code",
   "execution_count": null,
   "metadata": {},
   "outputs": [],
   "source": [
    "ianimate.ianimate(claw)"
   ]
  },
  {
   "cell_type": "code",
   "execution_count": null,
   "metadata": {},
   "outputs": [],
   "source": [
    "i = -1\n",
    "skip = 100\n",
    "q = claw.frames[i].q\n",
    "t = claw.frames[i].t\n",
    "x_coarse = xc[::skip]\n",
    "wave2 = reflected_wave(x_coarse,t,w,N=2) + transmitted_wave(x_coarse,t,w,N=2)\n",
    "wave2 = wave2 + 1*(x_coarse<x_0)\n",
    "\n",
    "wave4 = reflected_wave(x_coarse,t,w,N=4) + transmitted_wave(x_coarse,t,w,N=4)\n",
    "wave4 = wave4 + 1*(x_coarse<x_0)"
   ]
  },
  {
   "cell_type": "code",
   "execution_count": null,
   "metadata": {},
   "outputs": [],
   "source": [
    "plt.figure(figsize=(10,6))\n",
    "leftpart = np.where(x_coarse<0)\n",
    "rightpart = np.where(x_coarse>x_r)\n",
    "\n",
    "plt.plot(xc,q[0,:],'-k',zorder=11);\n",
    "plt.plot(x_coarse[leftpart],wave2[leftpart],'r--',lw=3)#,alpha=0.5);\n",
    "plt.plot(x_coarse[leftpart],wave4[leftpart],'b',lw=3,alpha=0.5);\n",
    "plt.plot(x_coarse[rightpart],wave2[rightpart],'r--',lw=3)#,alpha=0.5);\n",
    "plt.plot(x_coarse[rightpart],wave4[rightpart],'b',lw=3,alpha=0.5);\n",
    "ax = plt.gca()\n",
    "ymax, ymin = ax.get_ylim()\n",
    "xmid = np.linspace(0,1)\n",
    "plt.fill_between(xmid,ymax,ymin,color='lightgray',alpha=1.,zorder=10)\n",
    "plt.autoscale(enable=True, axis='y', tight=True)\n",
    "plt.autoscale(enable=True, axis='x', tight=True)\n",
    "plt.legend(['exact','Up to 2 reflections','Up to 4 reflections'],fontsize=15,loc='best');"
   ]
  },
  {
   "cell_type": "markdown",
   "metadata": {},
   "source": [
    "# Figure 11(b)"
   ]
  },
  {
   "cell_type": "code",
   "execution_count": null,
   "metadata": {},
   "outputs": [],
   "source": [
    "w=1.\n",
    "claw, Z, c = setup(mx=40000,w=w,Z_l=Z_l,Z_r=Z_r,\n",
    "                c_l=c_l,c_r=c_r,x_0=x_0,x_r=x_r,oscillate=oscillate)\n",
    "xc = claw.solution.state.grid.x.centers\n",
    "\n",
    "claw.run()"
   ]
  },
  {
   "cell_type": "code",
   "execution_count": null,
   "metadata": {},
   "outputs": [],
   "source": [
    "i = -1\n",
    "skip = 100\n",
    "q = claw.frames[i].q\n",
    "t = claw.frames[i].t\n",
    "x_coarse = xc[::skip]\n",
    "wave2 = reflected_wave(x_coarse,t,w,N=2) + transmitted_wave(x_coarse,t,w,N=2)\n",
    "\n",
    "wave4 = reflected_wave(x_coarse,t,w,N=4) + transmitted_wave(x_coarse,t,w,N=4)"
   ]
  },
  {
   "cell_type": "code",
   "execution_count": null,
   "metadata": {},
   "outputs": [],
   "source": [
    "plt.figure(figsize=(10,6))\n",
    "leftpart = np.where(x_coarse<0)\n",
    "rightpart = np.where(x_coarse>x_r)\n",
    "\n",
    "plt.plot(xc,q[0,:],'-k',zorder=11);\n",
    "plt.plot(x_coarse[leftpart],wave2[leftpart],'r--',lw=3)#,alpha=0.5);\n",
    "plt.plot(x_coarse[leftpart],wave4[leftpart],'b',lw=3,alpha=0.5);\n",
    "plt.plot(x_coarse[rightpart],wave2[rightpart],'r--',lw=3)#,alpha=0.5);\n",
    "plt.plot(x_coarse[rightpart],wave4[rightpart],'b',lw=3,alpha=0.5);\n",
    "ax = plt.gca()\n",
    "ymax, ymin = ax.get_ylim()\n",
    "xmid = np.linspace(0,1)\n",
    "plt.fill_between(xmid,ymax,ymin,color='lightgray',alpha=1.,zorder=10)\n",
    "plt.autoscale(enable=True, axis='y', tight=True)\n",
    "plt.autoscale(enable=True, axis='x', tight=True)\n",
    "plt.legend(['exact','Up to 2 reflections','Up to 4 reflections'],fontsize=15,loc='best');"
   ]
  },
  {
   "cell_type": "code",
   "execution_count": null,
   "metadata": {},
   "outputs": [],
   "source": []
  }
 ],
 "metadata": {
  "kernelspec": {
   "display_name": "Python 3",
   "language": "python",
   "name": "python3"
  },
  "language_info": {
   "codemirror_mode": {
    "name": "ipython",
    "version": 3
   },
   "file_extension": ".py",
   "mimetype": "text/x-python",
   "name": "python",
   "nbconvert_exporter": "python",
   "pygments_lexer": "ipython3",
   "version": "3.6.5"
  },
  "toc": {
   "base_numbering": 1,
   "nav_menu": {},
   "number_sections": true,
   "sideBar": true,
   "skip_h1_title": false,
   "title_cell": "Table of Contents",
   "title_sidebar": "Contents",
   "toc_cell": false,
   "toc_position": {},
   "toc_section_display": true,
   "toc_window_display": false
  }
 },
 "nbformat": 4,
 "nbformat_minor": 2
}
